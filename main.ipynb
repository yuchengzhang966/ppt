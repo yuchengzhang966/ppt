{
 "cells": [
  {
   "cell_type": "code",
   "execution_count": 1,
   "id": "b4b55668-cc54-4320-a0d3-a7f75b7d9daa",
   "metadata": {},
   "outputs": [],
   "source": [
    "from pptx import Presentation\n",
    "from pptx.util import Inches\n",
    "from pptx.util import Pt\n",
    "import os\n",
    "import matplotlib.pyplot as plt\n",
    "import matplotlib.image as mpimg\n",
    "\n",
    "from PIL import Image\n",
    "\n",
    "# Create a presentation object\n",
    "import new_ppt_util\n"
   ]
  },
  {
   "cell_type": "markdown",
   "id": "68a5cb54-eeef-44a4-9583-b1bc86857cf3",
   "metadata": {},
   "source": "## Instructions:\n\n1. **Edit the configuration section below** with your file paths:\n   - Replace `\"your_document.pdf\"` with your PDF filename\n   - Replace `\"Your Presentation Title\"` with your desired presentation title\n   - Make sure `template.pptx` exists in your project folder\n\n2. **Run the cells** to convert your PDF to branded PowerPoint\n\n3. **Follow prompts** to add custom slide titles if needed"
  },
  {
   "cell_type": "code",
   "execution_count": null,
   "id": "7b75bf46-e268-409a-9f5b-bd29cbdac4ae",
   "metadata": {},
   "outputs": [],
   "source": "# Configuration - Edit these paths for your setup\n# Use relative paths or current directory\nfolder_path = os.getcwd()  # Current directory\n\n# add pdf name (place your PDF file in the project folder)\npdf_path = os.path.join(folder_path, \"your_document.pdf\")\n\n# template (make sure template.pptx is in the project folder)\npr_path = os.path.join(folder_path, \"template.pptx\")\ntitle = \"Your Presentation Title\"\n\n# presentation output path\nout_pre_path = os.path.join(folder_path, title + \".pptx\")\n\n# where the pictures should be:\npic_output = os.path.join(folder_path, \"output_images\")\n\n# where the csv file should be\ncsv_file_path = os.path.join(folder_path, \"slide_info.csv\")"
  },
  {
   "cell_type": "code",
   "execution_count": null,
   "id": "1e9eec6f-444b-416d-b082-d927b8d284e8",
   "metadata": {},
   "outputs": [],
   "source": "# Extract slide information from PDF and convert to images\nslides_info = new_ppt_util.extract_slide_info(pdf_path, csv_file_path, title)\n\n# Convert PDF pages to PNG images with auto-trimming\nnew_ppt_util.pdf_to_png_and_trim(pdf_path, pic_output)\n\n# Optional: Add custom slide titles for specific pages\npage_numbers = []\ntitles = []\nwhile True:\n    user_input = input(\"Enter a page number to add custom title (or type 'done' to finish): \")\n    if user_input.lower() == 'done':\n        break\n    try:\n        page_number = int(user_input)\n        title_input = input(\"Enter the title for this page: \")\n        page_numbers.append(page_number)\n        titles.append(title_input)\n    except ValueError:\n        print(\"Please enter a valid number.\")\n\n# Process all the page numbers and titles provided by the user\nfor page_number, title_input in zip(page_numbers, titles):\n    new_ppt_util.insert_row_after_page_number(csv_file_path, page_number, title_input)\n\n# Generate the final presentation\nnew_ppt_util.generate_presentation(csv_file_path, pr_path, out_pre_path, folder_path)"
  },
  {
   "cell_type": "code",
   "execution_count": null,
   "id": "c9dfc389-637a-4f70-a6bc-257b181cb119",
   "metadata": {},
   "outputs": [],
   "source": "# Example: Generate presentation from existing CSV\nfolder_path = os.getcwd()\npr_path = os.path.join(folder_path, \"template.pptx\")\ncsv_file_path = os.path.join(folder_path, \"Book1.csv\")\nout_pre_path = os.path.join(folder_path, \"Book2.pptx\")\n\nnew_ppt_util.generate_presentation(csv_file_path, pr_path, out_pre_path, folder_path)"
  },
  {
   "cell_type": "code",
   "execution_count": null,
   "id": "9b0c0909-9c73-411b-8a81-5c7189c6111a",
   "metadata": {},
   "outputs": [],
   "source": []
  },
  {
   "cell_type": "markdown",
   "id": "93244743",
   "metadata": {},
   "source": []
  },
  {
   "cell_type": "code",
   "execution_count": null,
   "id": "0e7e2231",
   "metadata": {},
   "outputs": [],
   "source": []
  }
 ],
 "metadata": {
  "kernelspec": {
   "display_name": "Python 3 (ipykernel)",
   "language": "python",
   "name": "python3"
  },
  "language_info": {
   "codemirror_mode": {
    "name": "ipython",
    "version": 3
   },
   "file_extension": ".py",
   "mimetype": "text/x-python",
   "name": "python",
   "nbconvert_exporter": "python",
   "pygments_lexer": "ipython3",
   "version": "3.12.4"
  }
 },
 "nbformat": 4,
 "nbformat_minor": 5
}